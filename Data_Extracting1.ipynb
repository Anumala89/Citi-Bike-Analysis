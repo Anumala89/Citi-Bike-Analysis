{
 "cells": [
  {
   "cell_type": "code",
   "execution_count": 1,
   "metadata": {},
   "outputs": [],
   "source": [
    "#import necessary modules\n",
    "import os, glob\n",
    "import pandas as pd"
   ]
  },
  {
   "cell_type": "code",
   "execution_count": 2,
   "metadata": {},
   "outputs": [],
   "source": [
    "#set the working directory\n",
    "path = \"tripdata\""
   ]
  },
  {
   "cell_type": "code",
   "execution_count": 11,
   "metadata": {},
   "outputs": [],
   "source": [
    "#match csv files by name/pattern\n",
    "tripdata_2020 = glob.glob(os.path.join(path, \"2020*.csv\"))\n",
    "#tripdata_2020"
   ]
  },
  {
   "cell_type": "code",
   "execution_count": 12,
   "metadata": {},
   "outputs": [],
   "source": [
    "#combine all files in the list\n",
    "CHUNK_SIZE=5000\n",
    "output_file = \"tripdata/2020_tripdata.csv\"\n",
    "\n",
    "first_one = True\n",
    "for month in ['03','04','05','06', '07']:\n",
    "    if not first_one:\n",
    "        skip_row=[0]\n",
    "    else:\n",
    "        skip_row=[]\n",
    "    \n",
    "    chunk_container = pd.read_csv(\"tripdata/2020\"+month+\"-citibike-tripdata.csv\", chunksize=CHUNK_SIZE)\n",
    "    for chunk in chunk_container:\n",
    "        chunk.to_csv(output_file,mode=\"a\", index=False)\n",
    "    first_one = False"
   ]
  },
  {
   "cell_type": "code",
   "execution_count": 13,
   "metadata": {},
   "outputs": [],
   "source": [
    "CHUNK_SIZE=5000\n",
    "output_file = \"tripdata/2019_tripdata.csv\"\n",
    "\n",
    "first_one = True\n",
    "for month in ['03','04','05','06', '07']:\n",
    "    if not first_one:\n",
    "        skip_row=[0]\n",
    "    else:\n",
    "        skip_row=[]\n",
    "    \n",
    "    chunk_container = pd.read_csv(\"tripdata/2019\"+month+\"-citibike-tripdata.csv\", chunksize=CHUNK_SIZE)\n",
    "    for chunk in chunk_container:\n",
    "        chunk.to_csv(output_file,mode=\"a\", index=False)\n",
    "    first_one = False"
   ]
  },
  {
   "cell_type": "code",
   "execution_count": null,
   "metadata": {},
   "outputs": [],
   "source": []
  }
 ],
 "metadata": {
  "kernelspec": {
   "display_name": "Python [conda env:root]",
   "language": "python",
   "name": "conda-root-py"
  },
  "language_info": {
   "codemirror_mode": {
    "name": "ipython",
    "version": 3
   },
   "file_extension": ".py",
   "mimetype": "text/x-python",
   "name": "python",
   "nbconvert_exporter": "python",
   "pygments_lexer": "ipython3",
   "version": "3.8.3"
  }
 },
 "nbformat": 4,
 "nbformat_minor": 4
}
