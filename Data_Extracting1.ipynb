{
 "cells": [
  {
   "cell_type": "code",
   "execution_count": 1,
   "metadata": {},
   "outputs": [],
   "source": [
    "#import necessary modules\n",
    "import os, glob\n",
    "import pandas as pd"
   ]
  },
  {
   "cell_type": "code",
   "execution_count": 2,
   "metadata": {},
   "outputs": [],
   "source": [
    "#set the working directory\n",
    "path = \"tripdata\""
   ]
  },
  {
   "cell_type": "code",
   "execution_count": 3,
   "metadata": {},
   "outputs": [],
   "source": [
    "#match csv files by name/pattern\n",
    "all_files = glob.glob(os.path.join(path, \"20*.csv\"))\n",
    "#all_files"
   ]
  },
  {
   "cell_type": "code",
   "execution_count": 7,
   "metadata": {
    "scrolled": true
   },
   "outputs": [],
   "source": [
    "#combine all files in the list\n",
    "CHUNK_SIZE=5000\n",
    "output_file = \"202003_and_04_tripdata.csv\"\n",
    "\n",
    "first_one = True\n",
    "for month in ['03','04']:\n",
    "    if not first_one:\n",
    "        skip_row=[0]\n",
    "    else:\n",
    "        skip_row=[]\n",
    "    \n",
    "    chunk_container = pd.read_csv(\"tripdata/2020\"+month+\"-citibike-tripdata.csv\", chunksize=CHUNK_SIZE)\n",
    "    for chunk in chunk_container:\n",
    "        chunk.to_csv(output_file,mode=\"a\", index=False)\n",
    "    first_one = False"
   ]
  },
  {
   "cell_type": "code",
   "execution_count": 8,
   "metadata": {},
   "outputs": [],
   "source": [
    "CHUNK_SIZE=5000\n",
    "output_file = \"201903_and_04_tripdata.csv\"\n",
    "\n",
    "first_one = True\n",
    "for month in ['03','04']:\n",
    "    if not first_one:\n",
    "        skip_row=[0]\n",
    "    else:\n",
    "        skip_row=[]\n",
    "    \n",
    "    chunk_container = pd.read_csv(\"tripdata/2019\"+month+\"-citibike-tripdata.csv\", chunksize=CHUNK_SIZE)\n",
    "    for chunk in chunk_container:\n",
    "        chunk.to_csv(output_file,mode=\"a\", index=False)\n",
    "    first_one = False"
   ]
  },
  {
   "cell_type": "code",
   "execution_count": null,
   "metadata": {},
   "outputs": [],
   "source": []
  }
 ],
 "metadata": {
  "kernelspec": {
   "display_name": "Python [conda env:PythonName2] *",
   "language": "python",
   "name": "conda-env-PythonName2-py"
  },
  "language_info": {
   "codemirror_mode": {
    "name": "ipython",
    "version": 3
   },
   "file_extension": ".py",
   "mimetype": "text/x-python",
   "name": "python",
   "nbconvert_exporter": "python",
   "pygments_lexer": "ipython3",
   "version": "3.6.10"
  }
 },
 "nbformat": 4,
 "nbformat_minor": 4
}
