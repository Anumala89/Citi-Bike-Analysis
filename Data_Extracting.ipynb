{
 "cells": [
  {
   "cell_type": "code",
   "execution_count": 19,
   "metadata": {},
   "outputs": [],
   "source": [
    "#import necessary dependencies\n",
    "import requests\n",
    "from bs4 import BeautifulSoup as bs\n",
    "import os\n",
    "import zipfile\n",
    "import numpy as np\n",
    "import pandas as pd"
   ]
  },
  {
   "cell_type": "code",
   "execution_count": 6,
   "metadata": {},
   "outputs": [],
   "source": [
    "#url to be queried\n",
    "url = 'https://s3.amazonaws.com/tripdata/'\n",
    "\n",
    "#load url content into soup\n",
    "r = requests.get(url)\n",
    "soup = bs(r.text, \"xml\")\n",
    "\n",
    "#soup"
   ]
  },
  {
   "cell_type": "code",
   "execution_count": 14,
   "metadata": {},
   "outputs": [],
   "source": [
    "#extract file from soup\n",
    "files = soup.find_all('Key')\n",
    "#files\n",
    "clean_files = []\n",
    "for i in range(len(files)-1):\n",
    "    clean_files.append(files[i].get_text())\n",
    "\n",
    "#clean_files"
   ]
  },
  {
   "cell_type": "code",
   "execution_count": 18,
   "metadata": {},
   "outputs": [],
   "source": [
    "#unzip data files\n",
    "for file in clean_files:\n",
    "    file_url = url + file\n",
    "    \n",
    "    #download files\n",
    "    with open(file, \"wb\") as f:\n",
    "        response = requests.get(file_url)\n",
    "        f.write(response.content)\n",
    "    \n",
    "    #unzip data files\n",
    "    with zipfile.ZipFile(file, \"r\") as zip_ref:\n",
    "        zip_ref.extractall(\"tripdata\")\n",
    "        \n",
    "    #remove zipped file after unziping\n",
    "    os.remove(file)"
   ]
  },
  {
   "cell_type": "code",
   "execution_count": null,
   "metadata": {},
   "outputs": [],
   "source": []
  }
 ],
 "metadata": {
  "kernelspec": {
   "display_name": "Python 3",
   "language": "python",
   "name": "python3"
  },
  "language_info": {
   "codemirror_mode": {
    "name": "ipython",
    "version": 3
   },
   "file_extension": ".py",
   "mimetype": "text/x-python",
   "name": "python",
   "nbconvert_exporter": "python",
   "pygments_lexer": "ipython3",
   "version": "3.6.12"
  }
 },
 "nbformat": 4,
 "nbformat_minor": 4
}
